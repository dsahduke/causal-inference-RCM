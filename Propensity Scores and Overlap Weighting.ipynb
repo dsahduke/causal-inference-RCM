{
 "cells": [
  {
   "cell_type": "code",
   "execution_count": 1,
   "metadata": {},
   "outputs": [],
   "source": [
    "import pandas as pd\n",
    "import numpy as np\n",
    "import matplotlib.pyplot as plt\n",
    "import seaborn as sns\n",
    "from scipy.spatial.distance import mahalanobis\n",
    "%matplotlib inline"
   ]
  },
  {
   "cell_type": "markdown",
   "metadata": {},
   "source": [
    "## Propensity Scoring (1983)"
   ]
  },
  {
   "cell_type": "markdown",
   "metadata": {},
   "source": [
    "in the previous module, we discussed matching, a way of balancing covariates to make causal inference valid. However, we saw that even in the small example that we created, it was computationally expensive. As the number of covariates increases, this problem is made worse and worse. This invites alternative methods for balancing covariates. \n",
    "\n",
    "The method which we will discuss today is known as *propensity scoring*. At its core, propensity scoring is simply a way of balancing covariates and creating a psuedo-population, just as we saw with matching (whether it be exact or nearest-neighbor).\n"
   ]
  },
  {
   "cell_type": "markdown",
   "metadata": {},
   "source": [
    "The **propensity score** is defined as the probability of receiving the treatment given some covariates $\\textbf{x}$"
   ]
  },
  {
   "cell_type": "markdown",
   "metadata": {},
   "source": [
    "$$e(X) = Pr(W=1|X) = \\mathbb{E}(W|X)$$"
   ]
  },
  {
   "cell_type": "markdown",
   "metadata": {},
   "source": [
    "It can be shown that this score has the property that it balances the distribution of X (only observed covariates) between the treatment groups. Combined with our strong ignorability assumptions, this score can help us to mimic the balanced covariates of an RCT."
   ]
  },
  {
   "cell_type": "markdown",
   "metadata": {},
   "source": [
    "Note that $e(X)$ is just a scalar value! If we have this score, we can now do matching/stratification/weighting and it becomes much easier since we don't have to deal with high dimensionality. "
   ]
  },
  {
   "cell_type": "markdown",
   "metadata": {},
   "source": [
    "As a technical note, the propensity score has the following property:\n",
    "\n",
    "$$\\{Y_i(1), Y_i(0)\\} \\perp W_i | X_i \\implies \\{Y_i(1), Y_i(0)\\} \\perp W_i | e(X_i)$$"
   ]
  },
  {
   "cell_type": "markdown",
   "metadata": {},
   "source": [
    "This statement is equivalent to "
   ]
  },
  {
   "cell_type": "markdown",
   "metadata": {},
   "source": [
    "$$P(Y_1, Y_0 | W, X) = P(Y_1, Y_0 | X)$$"
   ]
  },
  {
   "cell_type": "markdown",
   "metadata": {},
   "source": [
    "which implies \n",
    "$$P(Y_1, Y_0|W, e(X)) = P(Y_1, Y_0|e(X))$$"
   ]
  },
  {
   "cell_type": "markdown",
   "metadata": {},
   "source": [
    "What this means is that given a unit's propensity score, the potential outcomes are not determined by the treatment that the unit actually received. In other words, the propensity score (and covariates) account for any potential treatment assignment mechanism when determining the potential outcomes."
   ]
  },
  {
   "cell_type": "markdown",
   "metadata": {},
   "source": [
    "## How to fit propensity score"
   ]
  },
  {
   "cell_type": "markdown",
   "metadata": {},
   "source": [
    "The propensity score is often fit via logistic regression (can use other machine learning models, but logistic regression does a good job most of the time). Since we are only discussing the case of binary treatments, any binary classifier that outputs a value on a continuous scale (i.e. [0,1]) will work. \n",
    "\n",
    "Since the purpose of this model is to find the overlap and balance covariates between treatment groups, it is not necessary to fit the best possible model. If the model underfits or overfits, it doesn't make a huge difference on the causal inference. \n",
    "\n",
    "The logistic regression model would look something like this:\n",
    "\n",
    "$$ Pr(W_i = 1 | X_i) = \\sigma(\\beta{X_i})$$\n"
   ]
  },
  {
   "cell_type": "markdown",
   "metadata": {},
   "source": [
    "#### Fit a propensity score model to our exapmle "
   ]
  },
  {
   "cell_type": "code",
   "execution_count": 2,
   "metadata": {
    "scrolled": true
   },
   "outputs": [],
   "source": [
    "notification_df = pd.read_csv(\"./assets/causal_inf_extract_sm.csv\")"
   ]
  },
  {
   "cell_type": "markdown",
   "metadata": {},
   "source": [
    "We have already actually fit a propensity score model prior to this (located in the full_propensity_score column), but we will fit another with this abbreviated set of covariates."
   ]
  },
  {
   "cell_type": "code",
   "execution_count": 3,
   "metadata": {
    "scrolled": true
   },
   "outputs": [
    {
     "data": {
      "text/html": [
       "<div>\n",
       "<style scoped>\n",
       "    .dataframe tbody tr th:only-of-type {\n",
       "        vertical-align: middle;\n",
       "    }\n",
       "\n",
       "    .dataframe tbody tr th {\n",
       "        vertical-align: top;\n",
       "    }\n",
       "\n",
       "    .dataframe thead th {\n",
       "        text-align: right;\n",
       "    }\n",
       "</style>\n",
       "<table border=\"1\" class=\"dataframe\">\n",
       "  <thead>\n",
       "    <tr style=\"text-align: right;\">\n",
       "      <th></th>\n",
       "      <th>age</th>\n",
       "      <th>notification</th>\n",
       "      <th>admission_type_label_Urgent Admission</th>\n",
       "      <th>admission_type_label_Routine Elective Admission</th>\n",
       "      <th>admission_type_label_Emergency Admission</th>\n",
       "      <th>acp_note_filed</th>\n",
       "      <th>full_propensity_score</th>\n",
       "      <th>hospice_disch</th>\n",
       "      <th>code_status</th>\n",
       "    </tr>\n",
       "  </thead>\n",
       "  <tbody>\n",
       "    <tr>\n",
       "      <th>0</th>\n",
       "      <td>68.899530</td>\n",
       "      <td>False</td>\n",
       "      <td>0</td>\n",
       "      <td>0</td>\n",
       "      <td>1</td>\n",
       "      <td>0</td>\n",
       "      <td>0.000898</td>\n",
       "      <td>0</td>\n",
       "      <td>0</td>\n",
       "    </tr>\n",
       "    <tr>\n",
       "      <th>1</th>\n",
       "      <td>80.044893</td>\n",
       "      <td>False</td>\n",
       "      <td>0</td>\n",
       "      <td>0</td>\n",
       "      <td>1</td>\n",
       "      <td>0</td>\n",
       "      <td>0.000188</td>\n",
       "      <td>0</td>\n",
       "      <td>0</td>\n",
       "    </tr>\n",
       "    <tr>\n",
       "      <th>2</th>\n",
       "      <td>47.549542</td>\n",
       "      <td>False</td>\n",
       "      <td>0</td>\n",
       "      <td>0</td>\n",
       "      <td>1</td>\n",
       "      <td>0</td>\n",
       "      <td>0.003407</td>\n",
       "      <td>0</td>\n",
       "      <td>0</td>\n",
       "    </tr>\n",
       "    <tr>\n",
       "      <th>3</th>\n",
       "      <td>59.931879</td>\n",
       "      <td>False</td>\n",
       "      <td>0</td>\n",
       "      <td>0</td>\n",
       "      <td>1</td>\n",
       "      <td>0</td>\n",
       "      <td>0.005123</td>\n",
       "      <td>0</td>\n",
       "      <td>0</td>\n",
       "    </tr>\n",
       "    <tr>\n",
       "      <th>4</th>\n",
       "      <td>33.593079</td>\n",
       "      <td>False</td>\n",
       "      <td>0</td>\n",
       "      <td>0</td>\n",
       "      <td>1</td>\n",
       "      <td>0</td>\n",
       "      <td>0.001232</td>\n",
       "      <td>0</td>\n",
       "      <td>0</td>\n",
       "    </tr>\n",
       "  </tbody>\n",
       "</table>\n",
       "</div>"
      ],
      "text/plain": [
       "         age  notification  admission_type_label_Urgent Admission  \\\n",
       "0  68.899530         False                                      0   \n",
       "1  80.044893         False                                      0   \n",
       "2  47.549542         False                                      0   \n",
       "3  59.931879         False                                      0   \n",
       "4  33.593079         False                                      0   \n",
       "\n",
       "   admission_type_label_Routine Elective Admission  \\\n",
       "0                                                0   \n",
       "1                                                0   \n",
       "2                                                0   \n",
       "3                                                0   \n",
       "4                                                0   \n",
       "\n",
       "   admission_type_label_Emergency Admission  acp_note_filed  \\\n",
       "0                                         1               0   \n",
       "1                                         1               0   \n",
       "2                                         1               0   \n",
       "3                                         1               0   \n",
       "4                                         1               0   \n",
       "\n",
       "   full_propensity_score  hospice_disch  code_status  \n",
       "0               0.000898              0            0  \n",
       "1               0.000188              0            0  \n",
       "2               0.003407              0            0  \n",
       "3               0.005123              0            0  \n",
       "4               0.001232              0            0  "
      ]
     },
     "execution_count": 3,
     "metadata": {},
     "output_type": "execute_result"
    }
   ],
   "source": [
    "notification_df.head()"
   ]
  },
  {
   "cell_type": "code",
   "execution_count": 4,
   "metadata": {},
   "outputs": [],
   "source": [
    "from sklearn.linear_model import LogisticRegression"
   ]
  },
  {
   "cell_type": "code",
   "execution_count": 5,
   "metadata": {},
   "outputs": [],
   "source": [
    "# Initialize the model -- we'll use default parameters for now\n",
    "lr = LogisticRegression()"
   ]
  },
  {
   "cell_type": "code",
   "execution_count": 6,
   "metadata": {},
   "outputs": [
    {
     "data": {
      "text/plain": [
       "LogisticRegression()"
      ]
     },
     "execution_count": 6,
     "metadata": {},
     "output_type": "execute_result"
    }
   ],
   "source": [
    "lr.fit(notification_df.loc[:, ['age', \n",
    "                               'admission_type_label_Urgent Admission',\n",
    "                               'admission_type_label_Routine Elective Admission',\n",
    "                               'admission_type_label_Emergency Admission']].values, \n",
    "       notification_df['notification'].values)\n"
   ]
  },
  {
   "cell_type": "markdown",
   "metadata": {},
   "source": [
    "Now, we want to get the actual scores (note that we did not use a training/test split since we don't care about assessing error -- we want to know what the model predicts in the original training set)."
   ]
  },
  {
   "cell_type": "code",
   "execution_count": 7,
   "metadata": {},
   "outputs": [],
   "source": [
    "notification_df['abbr_prop_score'] = lr.predict_proba(notification_df.loc[:, ['age', \n",
    "                               'admission_type_label_Urgent Admission',\n",
    "                               'admission_type_label_Routine Elective Admission',\n",
    "                               'admission_type_label_Emergency Admission']].values)[:, 1]"
   ]
  },
  {
   "cell_type": "code",
   "execution_count": 8,
   "metadata": {
    "scrolled": true
   },
   "outputs": [
    {
     "data": {
      "text/plain": [
       "Text(0.5, 1.0, 'Distribution of Propensity Score across groups')"
      ]
     },
     "execution_count": 8,
     "metadata": {},
     "output_type": "execute_result"
    },
    {
     "data": {
      "image/png": "[encoded data removed]",
      "text/plain": [
       "<Figure size 432x288 with 1 Axes>"
      ]
     },
     "metadata": {
      "needs_background": "light"
     },
     "output_type": "display_data"
    }
   ],
   "source": [
    "sns.histplot(data = notification_df, x='abbr_prop_score', hue='notification', stat='density', bins=50, common_norm=False)\n",
    "plt.xlabel(\"Propensity Score\")\n",
    "plt.title(\"Distribution of Propensity Score across groups\")"
   ]
  },
  {
   "cell_type": "markdown",
   "metadata": {},
   "source": [
    "## Did we actually balance our covariates? "
   ]
  },
  {
   "cell_type": "markdown",
   "metadata": {},
   "source": [
    "The whole point of the propensity score was to balance our covariates, but we have to check if they are actually balanced. There are several proposed methods to do this. The first is to do the following procedure:\n",
    "\n",
    " 1. create K blocks based on the propensity score quantiles\n",
    " 2. For each covariate, use a t-test for the two group means\n",
    " 3. Optionally run an ANOVA of X on W * b to test for main effects of W or interaction of W with b. \n",
    " \n",
    "If we did this correctly, we should not see any significance in these tests. "
   ]
  },
  {
   "cell_type": "markdown",
   "metadata": {},
   "source": [
    "## T/Z-test for each group "
   ]
  },
  {
   "cell_type": "code",
   "execution_count": 9,
   "metadata": {},
   "outputs": [],
   "source": [
    "from scipy.stats import ttest_ind as ttest\n",
    "from statsmodels.stats.weightstats import ztest"
   ]
  },
  {
   "cell_type": "code",
   "execution_count": 10,
   "metadata": {},
   "outputs": [],
   "source": [
    "def get_p_values(df, propensity_score_column, cov_to_test, \n",
    "                 treatment_col, test_type=\"t\"):\n",
    "    \"\"\"\n",
    "    Arguments:\n",
    "    ----------\n",
    "    df : pd.DataFrame\n",
    "        Dataframe that contains the propensity scores\n",
    "    propensity_score_column : str\n",
    "        Name of the propensity score column\n",
    "    cov_to_test : str\n",
    "        Name of the covariates to test\n",
    "    treatment_col : str\n",
    "        Name of the treatment column\n",
    "    test_type : str\n",
    "        One of [\"t\", \"z\"]. The type of test to perform\n",
    "    \n",
    "    Returns:\n",
    "    --------\n",
    "    result_dict : Dict[Dict]\n",
    "        A dictionary where the key the is the quantile of interest\n",
    "        and the value is the p-value of the resulting test\n",
    "    \"\"\"\n",
    "    result_dict = {}\n",
    "    for i in np.linspace(0, .8, 5):\n",
    "        q = np.quantile(df[propensity_score_column], i)\n",
    "        q2 = np.quantile(df[propensity_score_column], i + .2)\n",
    "        treatment_group_values = df.loc[(df[propensity_score_column] >= q)\n",
    "                                       &(df[propensity_score_column] < q2)\n",
    "                                       &(df[treatment_col] == 1),\n",
    "                                         cov_to_test].values\n",
    "        control_group_values = df.loc[(df[propensity_score_column] >= q)\n",
    "                                     &(df[propensity_score_column] < q2)\n",
    "                                     &(df[treatment_col] == 0),\n",
    "                                     cov_to_test].values\n",
    "        if test_type == \"t\":\n",
    "            result_dict[q] = ttest(treatment_group_values, control_group_values).pvalue\n",
    "        elif test_type == \"z\":\n",
    "            result_dict[q] = ztest(treatment_group_values, control_group_values)[1]\n",
    "            \n",
    "    return result_dict"
   ]
  },
  {
   "cell_type": "code",
   "execution_count": 11,
   "metadata": {},
   "outputs": [
    {
     "data": {
      "text/plain": [
       "{0.0027544686287523: 0.8096313338290116,\n",
       " 0.023012849292039134: 0.706558597533393,\n",
       " 0.04279758075340851: 0.19797639114374443,\n",
       " 0.07110819660749135: 0.26679686611150066,\n",
       " 0.116090155096089: 0.5759168663785798}"
      ]
     },
     "execution_count": 11,
     "metadata": {},
     "output_type": "execute_result"
    }
   ],
   "source": [
    "get_p_values(df=notification_df,\n",
    "             propensity_score_column=\"abbr_prop_score\",\n",
    "             cov_to_test=\"age\",\n",
    "             treatment_col=\"notification\")"
   ]
  },
  {
   "cell_type": "code",
   "execution_count": 12,
   "metadata": {
    "scrolled": true
   },
   "outputs": [
    {
     "name": "stderr",
     "output_type": "stream",
     "text": [
      "/Volumes/EXTERNAL/opt/anaconda3/lib/python3.8/site-packages/statsmodels/stats/weightstats.py:744: RuntimeWarning: invalid value encountered in double_scalars\n",
      "  zstat = (value1 - value2 - diff) / std_diff\n",
      "/Volumes/EXTERNAL/opt/anaconda3/lib/python3.8/site-packages/statsmodels/stats/weightstats.py:744: RuntimeWarning: invalid value encountered in double_scalars\n",
      "  zstat = (value1 - value2 - diff) / std_diff\n"
     ]
    },
    {
     "data": {
      "text/plain": [
       "{0.0027544686287523: 0.4348179875920394,\n",
       " 0.023012849292039134: 0.409999062541871,\n",
       " 0.04279758075340851: 0.2856788773703114,\n",
       " 0.07110819660749135: nan,\n",
       " 0.116090155096089: nan}"
      ]
     },
     "execution_count": 12,
     "metadata": {},
     "output_type": "execute_result"
    }
   ],
   "source": [
    "get_p_values(df=notification_df,\n",
    "             propensity_score_column=\"abbr_prop_score\",\n",
    "             cov_to_test='admission_type_label_Urgent Admission',\n",
    "             treatment_col=\"notification\",\n",
    "             test_type=\"z\")"
   ]
  },
  {
   "cell_type": "code",
   "execution_count": 13,
   "metadata": {
    "scrolled": true
   },
   "outputs": [
    {
     "name": "stderr",
     "output_type": "stream",
     "text": [
      "/Volumes/EXTERNAL/opt/anaconda3/lib/python3.8/site-packages/statsmodels/stats/weightstats.py:744: RuntimeWarning: invalid value encountered in double_scalars\n",
      "  zstat = (value1 - value2 - diff) / std_diff\n",
      "/Volumes/EXTERNAL/opt/anaconda3/lib/python3.8/site-packages/statsmodels/stats/weightstats.py:744: RuntimeWarning: invalid value encountered in double_scalars\n",
      "  zstat = (value1 - value2 - diff) / std_diff\n",
      "/Volumes/EXTERNAL/opt/anaconda3/lib/python3.8/site-packages/statsmodels/stats/weightstats.py:744: RuntimeWarning: invalid value encountered in double_scalars\n",
      "  zstat = (value1 - value2 - diff) / std_diff\n"
     ]
    },
    {
     "data": {
      "text/plain": [
       "{0.0027544686287523: 0.46768659486323605,\n",
       " 0.023012849292039134: 0.6569673726327662,\n",
       " 0.04279758075340851: nan,\n",
       " 0.07110819660749135: nan,\n",
       " 0.116090155096089: nan}"
      ]
     },
     "execution_count": 13,
     "metadata": {},
     "output_type": "execute_result"
    }
   ],
   "source": [
    "get_p_values(df=notification_df,\n",
    "             propensity_score_column=\"abbr_prop_score\",\n",
    "             cov_to_test='admission_type_label_Routine Elective Admission',\n",
    "             treatment_col=\"notification\",\n",
    "            test_type=\"z\")"
   ]
  },
  {
   "cell_type": "code",
   "execution_count": 14,
   "metadata": {
    "scrolled": true
   },
   "outputs": [
    {
     "name": "stderr",
     "output_type": "stream",
     "text": [
      "/Volumes/EXTERNAL/opt/anaconda3/lib/python3.8/site-packages/statsmodels/stats/weightstats.py:744: RuntimeWarning: invalid value encountered in double_scalars\n",
      "  zstat = (value1 - value2 - diff) / std_diff\n",
      "/Volumes/EXTERNAL/opt/anaconda3/lib/python3.8/site-packages/statsmodels/stats/weightstats.py:744: RuntimeWarning: invalid value encountered in double_scalars\n",
      "  zstat = (value1 - value2 - diff) / std_diff\n"
     ]
    },
    {
     "data": {
      "text/plain": [
       "{0.0027544686287523: 0.2368642947822449,\n",
       " 0.023012849292039134: 0.3416641931076787,\n",
       " 0.04279758075340851: 0.2856788773703125,\n",
       " 0.07110819660749135: nan,\n",
       " 0.116090155096089: nan}"
      ]
     },
     "execution_count": 14,
     "metadata": {},
     "output_type": "execute_result"
    }
   ],
   "source": [
    "get_p_values(df=notification_df,\n",
    "             propensity_score_column=\"abbr_prop_score\",\n",
    "             cov_to_test='admission_type_label_Emergency Admission',\n",
    "             treatment_col=\"notification\",\n",
    "            test_type=\"z\")"
   ]
  },
  {
   "cell_type": "markdown",
   "metadata": {},
   "source": [
    "## Absolute Standardized Bias "
   ]
  },
  {
   "cell_type": "markdown",
   "metadata": {},
   "source": [
    "$$ASB = |\\frac{\\sum_{i=1}^Nx_iZ_iw_i}{\\sum_{i=1}^NZ_iw_i} - \\frac{\\sum_{i=1}^Nx_i(1-Z_i)w_i}{\\sum_{i=1}^N(1-Z_i)w_i}| / \\sqrt{s_1^2/N_1 + s_0^2/N_0}$$"
   ]
  },
  {
   "cell_type": "markdown",
   "metadata": {},
   "source": [
    "where Z are the weights "
   ]
  },
  {
   "cell_type": "markdown",
   "metadata": {},
   "source": [
    "## How do we use these? "
   ]
  },
  {
   "cell_type": "markdown",
   "metadata": {},
   "source": [
    "Remember that our goal was to create a psuedo-population where the covariates were balanced. How does the propensity score allow us to do this exactly? We will look at the case of weighting, which is a very common way to do propensity score analysis. \n"
   ]
  },
  {
   "cell_type": "markdown",
   "metadata": {},
   "source": [
    "### Horvitz-Thompson Weighting\n",
    "\n",
    "This is the default propensity score weighting scheme. It is described as folows:\n",
    "\n",
    "The weight for someone in the treatment group is $1/\\hat{e}_i$ and is $1/(1-\\hat{e_i})$ for someone in the control group.\n",
    "\n",
    "The intuition is as follows:\n",
    "\n",
    "The less likely a subject was to be sampled, then the larger population weight it should have. "
   ]
  },
  {
   "cell_type": "markdown",
   "metadata": {},
   "source": [
    "However, this has the property that if an extremely low probability event occurs, it will have an outsized impact on the final analysis, which is not ideal. "
   ]
  },
  {
   "cell_type": "markdown",
   "metadata": {},
   "source": [
    "Under Horvitz-Thompson weighting, the average treatment effect estimator is given by:\n",
    "\n",
    "$\\hat{\\tau}^{ATE} = \\frac{\\sum_{W_i=1}Y_it_i}{\\sum_{W_i=1}t_i} - \\frac{\\sum_{W_i=0}Y_it_i}{\\sum_{W_i=0}t_i}$"
   ]
  },
  {
   "cell_type": "markdown",
   "metadata": {},
   "source": [
    "where t_i is the HT weight for that particular unit. "
   ]
  },
  {
   "cell_type": "markdown",
   "metadata": {},
   "source": [
    "then, our HT weight estimator for the average treatment effect is "
   ]
  },
  {
   "cell_type": "code",
   "execution_count": 15,
   "metadata": {},
   "outputs": [
    {
     "name": "stdout",
     "output_type": "stream",
     "text": [
      "pos_term=0.21472491169070065\n"
     ]
    }
   ],
   "source": [
    "treatment_group = notification_df.loc[notification_df['notification'] == 1]\n",
    "\n",
    "# HT estimator LHS\n",
    "pos_term = (sum(treatment_group['acp_note_filed'] * 1/treatment_group['abbr_prop_score'])\n",
    "/sum(1/treatment_group['abbr_prop_score']))\n",
    "print(f\"{pos_term=}\")"
   ]
  },
  {
   "cell_type": "code",
   "execution_count": 16,
   "metadata": {},
   "outputs": [
    {
     "name": "stdout",
     "output_type": "stream",
     "text": [
      "con_term=0.03810778945429071\n"
     ]
    }
   ],
   "source": [
    "control_group = notification_df.loc[notification_df['notification'] == 0]\n",
    "\n",
    "# HT estimator RHS\n",
    "con_term = (sum(control_group['acp_note_filed'] * 1/(1-control_group['abbr_prop_score']))\n",
    "/sum(1/(1-control_group['abbr_prop_score'])))\n",
    "print(f\"{con_term=}\")"
   ]
  },
  {
   "cell_type": "code",
   "execution_count": 17,
   "metadata": {},
   "outputs": [
    {
     "data": {
      "text/plain": [
       "0.17661712223640993"
      ]
     },
     "execution_count": 17,
     "metadata": {},
     "output_type": "execute_result"
    }
   ],
   "source": [
    "pos_term - con_term"
   ]
  },
  {
   "cell_type": "markdown",
   "metadata": {},
   "source": [
    "Compare that to our estimate using nearest neighbor matching: 0.25490196078431365"
   ]
  },
  {
   "cell_type": "markdown",
   "metadata": {},
   "source": [
    "## How weighting balances covariates "
   ]
  },
  {
   "cell_type": "markdown",
   "metadata": {},
   "source": [
    "if we take the new population covariates to be the covariates times the HT weight, we can assess the absolute standardized difference between the control group and treatment group!"
   ]
  },
  {
   "cell_type": "markdown",
   "metadata": {},
   "source": [
    "before: "
   ]
  },
  {
   "cell_type": "code",
   "execution_count": 18,
   "metadata": {},
   "outputs": [],
   "source": [
    "def asb(df, treatment_col, col, weight_col=None):\n",
    "    treatment_df = df.loc[df[treatment_col] == 1]\n",
    "    control_df = df.loc[df[treatment_col] == 0]\n",
    "    denominator = np.sqrt(np.var(treatment_df[col])/treatment_df.shape[0] + np.var(control_df[col])/control_df.shape[0])\n",
    "    if weight_col:\n",
    "        left_term = sum(treatment_df[col] * treatment_df[weight_col]) / sum(treatment_df[weight_col])\n",
    "        right_term = sum(control_df[col] * control_df[weight_col]) / sum(control_df[weight_col])\n",
    "        numerator = np.abs(left_term - right_term)\n",
    "        \n",
    "    else:\n",
    "        left_term = sum(treatment_df[col])/treatment_df.shape[0]\n",
    "        right_term = sum(control_df[col])/control_df.shape[0]\n",
    "        numerator = np.abs(left_term - right_term)\n",
    "        \n",
    "    return left_term, right_term, numerator / denominator"
   ]
  },
  {
   "cell_type": "code",
   "execution_count": 19,
   "metadata": {},
   "outputs": [],
   "source": [
    "def get_asb(df, treatment_col, col_list, weight_col=None):\n",
    "    treatment_mean = []\n",
    "    control_mean = []\n",
    "    asb_ = []\n",
    "    result_dict = {}\n",
    "    for col in col_list:\n",
    "        _treat, _control, _asb = asb(df, treatment_col, col, weight_col)\n",
    "        treatment_mean.append(_treat)\n",
    "        control_mean.append(_control)\n",
    "        asb_.append(_asb)\n",
    "    result_dict['column'] = col_list\n",
    "    result_dict['treatment_mean'] = treatment_mean\n",
    "    result_dict['control_mean'] = control_mean\n",
    "    result_dict['asb'] = asb_\n",
    "    return result_dict"
   ]
  },
  {
   "cell_type": "code",
   "execution_count": 20,
   "metadata": {},
   "outputs": [],
   "source": [
    "col_list = ['age', \n",
    "            'admission_type_label_Urgent Admission',\n",
    "            'admission_type_label_Routine Elective Admission',\n",
    "            'admission_type_label_Emergency Admission']"
   ]
  },
  {
   "cell_type": "markdown",
   "metadata": {},
   "source": [
    "before"
   ]
  },
  {
   "cell_type": "code",
   "execution_count": 21,
   "metadata": {
    "scrolled": false
   },
   "outputs": [],
   "source": [
    "asb_dict = get_asb(notification_df, 'notification', col_list)"
   ]
  },
  {
   "cell_type": "code",
   "execution_count": 22,
   "metadata": {
    "scrolled": false
   },
   "outputs": [
    {
     "data": {
      "text/html": [
       "<div>\n",
       "<style scoped>\n",
       "    .dataframe tbody tr th:only-of-type {\n",
       "        vertical-align: middle;\n",
       "    }\n",
       "\n",
       "    .dataframe tbody tr th {\n",
       "        vertical-align: top;\n",
       "    }\n",
       "\n",
       "    .dataframe thead th {\n",
       "        text-align: right;\n",
       "    }\n",
       "</style>\n",
       "<table border=\"1\" class=\"dataframe\">\n",
       "  <thead>\n",
       "    <tr style=\"text-align: right;\">\n",
       "      <th></th>\n",
       "      <th>column</th>\n",
       "      <th>treatment_mean</th>\n",
       "      <th>control_mean</th>\n",
       "      <th>asb</th>\n",
       "    </tr>\n",
       "  </thead>\n",
       "  <tbody>\n",
       "    <tr>\n",
       "      <th>0</th>\n",
       "      <td>age</td>\n",
       "      <td>73.114042</td>\n",
       "      <td>61.896355</td>\n",
       "      <td>9.379642</td>\n",
       "    </tr>\n",
       "    <tr>\n",
       "      <th>1</th>\n",
       "      <td>admission_type_label_Urgent Admission</td>\n",
       "      <td>0.015267</td>\n",
       "      <td>0.094823</td>\n",
       "      <td>6.199112</td>\n",
       "    </tr>\n",
       "    <tr>\n",
       "      <th>2</th>\n",
       "      <td>admission_type_label_Routine Elective Admission</td>\n",
       "      <td>0.000000</td>\n",
       "      <td>0.024433</td>\n",
       "      <td>6.561393</td>\n",
       "    </tr>\n",
       "    <tr>\n",
       "      <th>3</th>\n",
       "      <td>admission_type_label_Emergency Admission</td>\n",
       "      <td>0.984733</td>\n",
       "      <td>0.880745</td>\n",
       "      <td>7.841401</td>\n",
       "    </tr>\n",
       "  </tbody>\n",
       "</table>\n",
       "</div>"
      ],
      "text/plain": [
       "                                            column  treatment_mean  \\\n",
       "0                                              age       73.114042   \n",
       "1            admission_type_label_Urgent Admission        0.015267   \n",
       "2  admission_type_label_Routine Elective Admission        0.000000   \n",
       "3         admission_type_label_Emergency Admission        0.984733   \n",
       "\n",
       "   control_mean       asb  \n",
       "0     61.896355  9.379642  \n",
       "1      0.094823  6.199112  \n",
       "2      0.024433  6.561393  \n",
       "3      0.880745  7.841401  "
      ]
     },
     "execution_count": 22,
     "metadata": {},
     "output_type": "execute_result"
    }
   ],
   "source": [
    "pd.DataFrame(asb_dict)"
   ]
  },
  {
   "cell_type": "markdown",
   "metadata": {},
   "source": [
    "after"
   ]
  },
  {
   "cell_type": "code",
   "execution_count": 23,
   "metadata": {},
   "outputs": [],
   "source": [
    "notification_df['ht_weights'] = 0\n",
    "notification_df.loc[notification_df['notification'] == 1, 'ht_weights'] = 1/notification_df.loc[notification_df['notification'] == 1, 'abbr_prop_score']\n",
    "notification_df.loc[notification_df['notification'] == 0, 'ht_weights'] = 1/(1 - notification_df.loc[notification_df['notification'] == 0, 'abbr_prop_score'])"
   ]
  },
  {
   "cell_type": "code",
   "execution_count": 24,
   "metadata": {},
   "outputs": [],
   "source": [
    "weighted_asb = get_asb(notification_df, \n",
    "                       'notification', \n",
    "                       col_list,\n",
    "                       'ht_weights')"
   ]
  },
  {
   "cell_type": "code",
   "execution_count": 25,
   "metadata": {
    "scrolled": true
   },
   "outputs": [
    {
     "data": {
      "text/html": [
       "<div>\n",
       "<style scoped>\n",
       "    .dataframe tbody tr th:only-of-type {\n",
       "        vertical-align: middle;\n",
       "    }\n",
       "\n",
       "    .dataframe tbody tr th {\n",
       "        vertical-align: top;\n",
       "    }\n",
       "\n",
       "    .dataframe thead th {\n",
       "        text-align: right;\n",
       "    }\n",
       "</style>\n",
       "<table border=\"1\" class=\"dataframe\">\n",
       "  <thead>\n",
       "    <tr style=\"text-align: right;\">\n",
       "      <th></th>\n",
       "      <th>column</th>\n",
       "      <th>treatment_mean</th>\n",
       "      <th>control_mean</th>\n",
       "      <th>asb</th>\n",
       "    </tr>\n",
       "  </thead>\n",
       "  <tbody>\n",
       "    <tr>\n",
       "      <th>0</th>\n",
       "      <td>age</td>\n",
       "      <td>63.168846</td>\n",
       "      <td>62.694500</td>\n",
       "      <td>0.396624</td>\n",
       "    </tr>\n",
       "    <tr>\n",
       "      <th>1</th>\n",
       "      <td>admission_type_label_Urgent Admission</td>\n",
       "      <td>0.035630</td>\n",
       "      <td>0.089402</td>\n",
       "      <td>4.189994</td>\n",
       "    </tr>\n",
       "    <tr>\n",
       "      <th>2</th>\n",
       "      <td>admission_type_label_Routine Elective Admission</td>\n",
       "      <td>0.000000</td>\n",
       "      <td>0.023035</td>\n",
       "      <td>6.185934</td>\n",
       "    </tr>\n",
       "    <tr>\n",
       "      <th>3</th>\n",
       "      <td>admission_type_label_Emergency Admission</td>\n",
       "      <td>0.964370</td>\n",
       "      <td>0.887563</td>\n",
       "      <td>5.791711</td>\n",
       "    </tr>\n",
       "  </tbody>\n",
       "</table>\n",
       "</div>"
      ],
      "text/plain": [
       "                                            column  treatment_mean  \\\n",
       "0                                              age       63.168846   \n",
       "1            admission_type_label_Urgent Admission        0.035630   \n",
       "2  admission_type_label_Routine Elective Admission        0.000000   \n",
       "3         admission_type_label_Emergency Admission        0.964370   \n",
       "\n",
       "   control_mean       asb  \n",
       "0     62.694500  0.396624  \n",
       "1      0.089402  4.189994  \n",
       "2      0.023035  6.185934  \n",
       "3      0.887563  5.791711  "
      ]
     },
     "execution_count": 25,
     "metadata": {},
     "output_type": "execute_result"
    }
   ],
   "source": [
    "pd.DataFrame(weighted_asb)"
   ]
  },
  {
   "cell_type": "markdown",
   "metadata": {},
   "source": [
    "As we can see, there are issues with balancing the covariates in this cohort. "
   ]
  },
  {
   "cell_type": "markdown",
   "metadata": {},
   "source": [
    "## Overlap Weights (2018)"
   ]
  },
  {
   "cell_type": "markdown",
   "metadata": {},
   "source": [
    "https://jamanetwork.com/journals/jama/fullarticle/2765748\n",
    "\n",
    "https://amstat.tandfonline.com/doi/full/10.1080/01621459.2016.1260466#.W3QzzehKiF4"
   ]
  },
  {
   "cell_type": "markdown",
   "metadata": {},
   "source": [
    "This method, developed by Fan Li (a professor at Duke), aims to address some of the issues that occur in HT weights."
   ]
  },
  {
   "cell_type": "markdown",
   "metadata": {},
   "source": [
    "Rather than targeting those units that have low probability of being in another group, overlap weights seek to find the overlap population -- that is, units which are equally likely to be in either group."
   ]
  },
  {
   "cell_type": "markdown",
   "metadata": {},
   "source": [
    "Overlap Weights: \n",
    "For treatment group, the overlap weight is simply $1 - \\hat{e}(x)$\n",
    "For the control group, the overlap weight is simply $\\hat{e}(x)$"
   ]
  },
  {
   "cell_type": "code",
   "execution_count": 26,
   "metadata": {},
   "outputs": [],
   "source": [
    "notification_df['overlap_weights'] = 0\n",
    "notification_df.loc[notification_df['notification'] == 1, 'overlap_weights'] = 1 - notification_df.loc[notification_df['notification'] == 1, 'abbr_prop_score']\n",
    "notification_df.loc[notification_df['notification'] == 0, 'overlap_weights'] = notification_df.loc[notification_df['notification'] == 0, 'abbr_prop_score']"
   ]
  },
  {
   "cell_type": "markdown",
   "metadata": {},
   "source": [
    "before weighting"
   ]
  },
  {
   "cell_type": "code",
   "execution_count": 27,
   "metadata": {},
   "outputs": [],
   "source": [
    "before_dict = get_asb(notification_df, 'notification', col_list)"
   ]
  },
  {
   "cell_type": "code",
   "execution_count": 28,
   "metadata": {
    "scrolled": false
   },
   "outputs": [
    {
     "data": {
      "text/html": [
       "<div>\n",
       "<style scoped>\n",
       "    .dataframe tbody tr th:only-of-type {\n",
       "        vertical-align: middle;\n",
       "    }\n",
       "\n",
       "    .dataframe tbody tr th {\n",
       "        vertical-align: top;\n",
       "    }\n",
       "\n",
       "    .dataframe thead th {\n",
       "        text-align: right;\n",
       "    }\n",
       "</style>\n",
       "<table border=\"1\" class=\"dataframe\">\n",
       "  <thead>\n",
       "    <tr style=\"text-align: right;\">\n",
       "      <th></th>\n",
       "      <th>column</th>\n",
       "      <th>treatment_mean</th>\n",
       "      <th>control_mean</th>\n",
       "      <th>asb</th>\n",
       "    </tr>\n",
       "  </thead>\n",
       "  <tbody>\n",
       "    <tr>\n",
       "      <th>0</th>\n",
       "      <td>age</td>\n",
       "      <td>73.114042</td>\n",
       "      <td>61.896355</td>\n",
       "      <td>9.379642</td>\n",
       "    </tr>\n",
       "    <tr>\n",
       "      <th>1</th>\n",
       "      <td>admission_type_label_Urgent Admission</td>\n",
       "      <td>0.015267</td>\n",
       "      <td>0.094823</td>\n",
       "      <td>6.199112</td>\n",
       "    </tr>\n",
       "    <tr>\n",
       "      <th>2</th>\n",
       "      <td>admission_type_label_Routine Elective Admission</td>\n",
       "      <td>0.000000</td>\n",
       "      <td>0.024433</td>\n",
       "      <td>6.561393</td>\n",
       "    </tr>\n",
       "    <tr>\n",
       "      <th>3</th>\n",
       "      <td>admission_type_label_Emergency Admission</td>\n",
       "      <td>0.984733</td>\n",
       "      <td>0.880745</td>\n",
       "      <td>7.841401</td>\n",
       "    </tr>\n",
       "  </tbody>\n",
       "</table>\n",
       "</div>"
      ],
      "text/plain": [
       "                                            column  treatment_mean  \\\n",
       "0                                              age       73.114042   \n",
       "1            admission_type_label_Urgent Admission        0.015267   \n",
       "2  admission_type_label_Routine Elective Admission        0.000000   \n",
       "3         admission_type_label_Emergency Admission        0.984733   \n",
       "\n",
       "   control_mean       asb  \n",
       "0     61.896355  9.379642  \n",
       "1      0.094823  6.199112  \n",
       "2      0.024433  6.561393  \n",
       "3      0.880745  7.841401  "
      ]
     },
     "execution_count": 28,
     "metadata": {},
     "output_type": "execute_result"
    }
   ],
   "source": [
    "pd.DataFrame(before_dict)"
   ]
  },
  {
   "cell_type": "markdown",
   "metadata": {},
   "source": [
    "after weighting "
   ]
  },
  {
   "cell_type": "code",
   "execution_count": 29,
   "metadata": {},
   "outputs": [],
   "source": [
    "after_dict = get_asb(notification_df, 'notification', col_list, 'overlap_weights')"
   ]
  },
  {
   "cell_type": "code",
   "execution_count": 30,
   "metadata": {
    "scrolled": false
   },
   "outputs": [
    {
     "data": {
      "text/html": [
       "<div>\n",
       "<style scoped>\n",
       "    .dataframe tbody tr th:only-of-type {\n",
       "        vertical-align: middle;\n",
       "    }\n",
       "\n",
       "    .dataframe tbody tr th {\n",
       "        vertical-align: top;\n",
       "    }\n",
       "\n",
       "    .dataframe thead th {\n",
       "        text-align: right;\n",
       "    }\n",
       "</style>\n",
       "<table border=\"1\" class=\"dataframe\">\n",
       "  <thead>\n",
       "    <tr style=\"text-align: right;\">\n",
       "      <th></th>\n",
       "      <th>column</th>\n",
       "      <th>treatment_mean</th>\n",
       "      <th>control_mean</th>\n",
       "      <th>asb</th>\n",
       "    </tr>\n",
       "  </thead>\n",
       "  <tbody>\n",
       "    <tr>\n",
       "      <th>0</th>\n",
       "      <td>age</td>\n",
       "      <td>72.357334</td>\n",
       "      <td>72.356825</td>\n",
       "      <td>0.000425</td>\n",
       "    </tr>\n",
       "    <tr>\n",
       "      <th>1</th>\n",
       "      <td>admission_type_label_Urgent Admission</td>\n",
       "      <td>0.016500</td>\n",
       "      <td>0.020168</td>\n",
       "      <td>0.285764</td>\n",
       "    </tr>\n",
       "    <tr>\n",
       "      <th>2</th>\n",
       "      <td>admission_type_label_Routine Elective Admission</td>\n",
       "      <td>0.000000</td>\n",
       "      <td>0.005200</td>\n",
       "      <td>1.396349</td>\n",
       "    </tr>\n",
       "    <tr>\n",
       "      <th>3</th>\n",
       "      <td>admission_type_label_Emergency Admission</td>\n",
       "      <td>0.983500</td>\n",
       "      <td>0.974633</td>\n",
       "      <td>0.668625</td>\n",
       "    </tr>\n",
       "  </tbody>\n",
       "</table>\n",
       "</div>"
      ],
      "text/plain": [
       "                                            column  treatment_mean  \\\n",
       "0                                              age       72.357334   \n",
       "1            admission_type_label_Urgent Admission        0.016500   \n",
       "2  admission_type_label_Routine Elective Admission        0.000000   \n",
       "3         admission_type_label_Emergency Admission        0.983500   \n",
       "\n",
       "   control_mean       asb  \n",
       "0     72.356825  0.000425  \n",
       "1      0.020168  0.285764  \n",
       "2      0.005200  1.396349  \n",
       "3      0.974633  0.668625  "
      ]
     },
     "execution_count": 30,
     "metadata": {},
     "output_type": "execute_result"
    }
   ],
   "source": [
    "pd.DataFrame(after_dict)"
   ]
  },
  {
   "cell_type": "markdown",
   "metadata": {},
   "source": [
    "### Overlap Weight Estimate:"
   ]
  },
  {
   "cell_type": "markdown",
   "metadata": {},
   "source": [
    "$$\\hat{\\tau}_h = \\frac{\\sum_iw_1(x_i)Z_iY_i}{\\sum_iw_1(x_i)Z_i} - \\frac{\\sum_iw_0(x_i)(1-Z_i)Y_i}{\\sum_i{w_0(x_i)(1-Z_i)}}$$"
   ]
  },
  {
   "cell_type": "code",
   "execution_count": 31,
   "metadata": {},
   "outputs": [],
   "source": [
    "def wate(propensity_df, overlap_weight_col, outcome_col, treatment_col):\n",
    "    treatment_term = (sum(\n",
    "    propensity_df.loc[propensity_df[treatment_col] == True, overlap_weight_col]\n",
    "   *propensity_df.loc[propensity_df[treatment_col] == True, outcome_col]) /\n",
    "    sum(propensity_df.loc[propensity_df[treatment_col] == True, overlap_weight_col]))\n",
    "    print(treatment_term)\n",
    "    control_term = (sum(\n",
    "    propensity_df.loc[propensity_df[treatment_col] == False, overlap_weight_col]\n",
    "   *propensity_df.loc[propensity_df[treatment_col] == False, outcome_col]) /\n",
    "    sum(propensity_df.loc[propensity_df[treatment_col] == False, overlap_weight_col]))\n",
    "    print(control_term)\n",
    "    return treatment_term - control_term"
   ]
  },
  {
   "cell_type": "code",
   "execution_count": 35,
   "metadata": {},
   "outputs": [
    {
     "name": "stdout",
     "output_type": "stream",
     "text": [
      "0.028741820664808546\n",
      "0.0159123451748692\n"
     ]
    },
    {
     "data": {
      "text/plain": [
       "0.012829475489939346"
      ]
     },
     "execution_count": 35,
     "metadata": {},
     "output_type": "execute_result"
    }
   ],
   "source": [
    "wate(notification_df, 'overlap_weights', 'hospice_disch', 'notification')"
   ]
  },
  {
   "cell_type": "markdown",
   "metadata": {},
   "source": [
    "## How do we get a Confidence Bound for this estimator? "
   ]
  },
  {
   "cell_type": "markdown",
   "metadata": {},
   "source": [
    "### Answer: Bootstrap"
   ]
  },
  {
   "cell_type": "markdown",
   "metadata": {},
   "source": [
    "recall that the bootstrap allows us to get empirical estimates of a variance of an estimator via simulation. Here we assume that the population of interest that we are drawing from are all possible patients who might be eligible for this program. We only see one sample of this in practice, but we can bootstrap our sample to estimate the variance!"
   ]
  },
  {
   "cell_type": "code",
   "execution_count": null,
   "metadata": {},
   "outputs": [],
   "source": [
    "n_boots = 500"
   ]
  },
  {
   "cell_type": "markdown",
   "metadata": {},
   "source": [
    "steps for getting a bootstrapped confidence interval "
   ]
  },
  {
   "cell_type": "markdown",
   "metadata": {},
   "source": [
    "> * Bootstrap from the original dataset\n",
    "> * Fit a propensity score model\n",
    "> * Calculate the overlap weights\n",
    "> * Calculate the average treatment effect"
   ]
  }
 ],
 "metadata": {
  "kernelspec": {
   "display_name": "Python 3",
   "language": "python",
   "name": "python3"
  },
  "language_info": {
   "codemirror_mode": {
    "name": "ipython",
    "version": 3
   },
   "file_extension": ".py",
   "mimetype": "text/x-python",
   "name": "python",
   "nbconvert_exporter": "python",
   "pygments_lexer": "ipython3",
   "version": "3.8.5"
  }
 },
 "nbformat": 4,
 "nbformat_minor": 4
}
