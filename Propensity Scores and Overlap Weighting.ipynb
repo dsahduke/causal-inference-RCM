{
 "cells": [
  {
   "cell_type": "code",
   "execution_count": 1,
   "metadata": {},
   "outputs": [],
   "source": [
    "import pandas as pd\n",
    "import numpy as np\n",
    "import matplotlib.pyplot as plt\n",
    "import seaborn as sns\n",
    "from scipy.spatial.distance import mahalanobis\n",
    "%matplotlib inline"
   ]
  },
  {
   "cell_type": "markdown",
   "metadata": {},
   "source": [
    "## Propensity Scoring (1983)"
   ]
  },
  {
   "cell_type": "markdown",
   "metadata": {},
   "source": [
    "in the previous module, we discussed matching, a way of balancing covariates to make causal inference valid. However, we saw that even in the small example that we created, it was computationally expensive. As the number of covariates increases, this problem is made worse and worse. This invites alternative methods for balancing covariates. \n",
    "\n",
    "The method which we will discuss today is known as *propensity scoring*. At its core, propensity scoring is simply a way of balancing covariates and creating a psuedo-population, just as we saw with matching (whether it be exact or nearest-neighbor).\n"
   ]
  },
  {
   "cell_type": "markdown",
   "metadata": {},
   "source": [
    "The **propensity score** is defined as the probability of receiving the treatment given some covariates $\\textbf{x}$"
   ]
  },
  {
   "cell_type": "markdown",
   "metadata": {},
   "source": [
    "$$e(X) = Pr(W=1|X) = \\mathbb{E}(W|X)$$"
   ]
  },
  {
   "cell_type": "markdown",
   "metadata": {},
   "source": [
    "It can be shown that this score has the property that it balances the distribution of X (only observed covariates) between the treatment groups. Combined with our strong ignorability assumptions, this score can help us to mimic the balanced covariates of an RCT."
   ]
  },
  {
   "cell_type": "markdown",
   "metadata": {},
   "source": [
    "Note that $e(X)$ is just a scalar value! If we have this score, we can now do matching/stratification/weighting and it becomes much easier since we don't have to deal with high dimensionality. "
   ]
  },
  {
   "cell_type": "markdown",
   "metadata": {},
   "source": [
    "As a technical note, the propensity score has the following property:\n",
    "\n",
    "$$\\{Y_i(1), Y_i(0)\\} \\perp W_i | X_i \\implies \\{Y_i(1), Y_i(0)\\} \\perp W_i | e(X_i)$$"
   ]
  },
  {
   "cell_type": "markdown",
   "metadata": {},
   "source": [
    "This basically states the fact that if the potential outcomes are conditionally independent of the covariates given the treatment, then they are also conditionally independent of the propensity score. This is the property that allows us to substitute e(X) for X itself when thinking about how to balance covariates."
   ]
  },
  {
   "cell_type": "markdown",
   "metadata": {},
   "source": [
    "## How to fit propensity score"
   ]
  },
  {
   "cell_type": "markdown",
   "metadata": {},
   "source": [
    "The propensity score is often fit via logistic regression (can use other machine learning models, but logistic regression does a good job most of the time). Since we are only discussing the case of binary treatments, any binary classifier that outputs a value on a continuous scale (i.e. [0,1]) will work. \n",
    "\n",
    "Since the purpose of this model is to find the overlap and balance covariates between treatment groups, it is not necessary to fit the best possible model. If the model underfits or overfits, it doesn't make a huge difference on the causal inference. \n",
    "\n",
    "The logistic regression model would look something like this:\n",
    "\n",
    "$$ Pr(W_i = 1 | X_i) = \\sigma(\\beta{X_i})$$\n"
   ]
  },
  {
   "cell_type": "markdown",
   "metadata": {},
   "source": [
    "#### Fit a propensity score model to our exapmle "
   ]
  },
  {
   "cell_type": "code",
   "execution_count": 2,
   "metadata": {},
   "outputs": [],
   "source": [
    "notification_df = pd.read_csv(\"./assets/causal_inf_extract.csv\")"
   ]
  },
  {
   "cell_type": "markdown",
   "metadata": {},
   "source": [
    "We have already actually fit a propensity score model prior to this (located in the full_propensity_score column), but we will fit another with this abbreviated set of covariates."
   ]
  },
  {
   "cell_type": "code",
   "execution_count": 3,
   "metadata": {},
   "outputs": [
    {
     "data": {
      "text/html": [
       "<div>\n",
       "<style scoped>\n",
       "    .dataframe tbody tr th:only-of-type {\n",
       "        vertical-align: middle;\n",
       "    }\n",
       "\n",
       "    .dataframe tbody tr th {\n",
       "        vertical-align: top;\n",
       "    }\n",
       "\n",
       "    .dataframe thead th {\n",
       "        text-align: right;\n",
       "    }\n",
       "</style>\n",
       "<table border=\"1\" class=\"dataframe\">\n",
       "  <thead>\n",
       "    <tr style=\"text-align: right;\">\n",
       "      <th></th>\n",
       "      <th>age</th>\n",
       "      <th>notification</th>\n",
       "      <th>admission_type_label_Urgent Admission</th>\n",
       "      <th>admission_type_label_Routine Elective Admission</th>\n",
       "      <th>admission_type_label_Emergency Admission</th>\n",
       "      <th>acp_note_filed</th>\n",
       "      <th>full_propensity_score</th>\n",
       "      <th>hospice_disch</th>\n",
       "      <th>code_status</th>\n",
       "    </tr>\n",
       "  </thead>\n",
       "  <tbody>\n",
       "    <tr>\n",
       "      <th>0</th>\n",
       "      <td>89.970830</td>\n",
       "      <td>False</td>\n",
       "      <td>0</td>\n",
       "      <td>0</td>\n",
       "      <td>1</td>\n",
       "      <td>0</td>\n",
       "      <td>0.027484</td>\n",
       "      <td>0</td>\n",
       "      <td>0</td>\n",
       "    </tr>\n",
       "    <tr>\n",
       "      <th>1</th>\n",
       "      <td>44.739224</td>\n",
       "      <td>False</td>\n",
       "      <td>0</td>\n",
       "      <td>0</td>\n",
       "      <td>1</td>\n",
       "      <td>0</td>\n",
       "      <td>0.002748</td>\n",
       "      <td>0</td>\n",
       "      <td>0</td>\n",
       "    </tr>\n",
       "    <tr>\n",
       "      <th>2</th>\n",
       "      <td>85.626297</td>\n",
       "      <td>False</td>\n",
       "      <td>0</td>\n",
       "      <td>0</td>\n",
       "      <td>1</td>\n",
       "      <td>0</td>\n",
       "      <td>0.021631</td>\n",
       "      <td>0</td>\n",
       "      <td>0</td>\n",
       "    </tr>\n",
       "    <tr>\n",
       "      <th>3</th>\n",
       "      <td>34.889035</td>\n",
       "      <td>False</td>\n",
       "      <td>1</td>\n",
       "      <td>0</td>\n",
       "      <td>0</td>\n",
       "      <td>0</td>\n",
       "      <td>0.001617</td>\n",
       "      <td>0</td>\n",
       "      <td>0</td>\n",
       "    </tr>\n",
       "    <tr>\n",
       "      <th>4</th>\n",
       "      <td>62.575249</td>\n",
       "      <td>False</td>\n",
       "      <td>0</td>\n",
       "      <td>0</td>\n",
       "      <td>1</td>\n",
       "      <td>0</td>\n",
       "      <td>0.006805</td>\n",
       "      <td>0</td>\n",
       "      <td>0</td>\n",
       "    </tr>\n",
       "  </tbody>\n",
       "</table>\n",
       "</div>"
      ],
      "text/plain": [
       "         age  notification  admission_type_label_Urgent Admission  \\\n",
       "0  89.970830         False                                      0   \n",
       "1  44.739224         False                                      0   \n",
       "2  85.626297         False                                      0   \n",
       "3  34.889035         False                                      1   \n",
       "4  62.575249         False                                      0   \n",
       "\n",
       "   admission_type_label_Routine Elective Admission  \\\n",
       "0                                                0   \n",
       "1                                                0   \n",
       "2                                                0   \n",
       "3                                                0   \n",
       "4                                                0   \n",
       "\n",
       "   admission_type_label_Emergency Admission  acp_note_filed  \\\n",
       "0                                         1               0   \n",
       "1                                         1               0   \n",
       "2                                         1               0   \n",
       "3                                         0               0   \n",
       "4                                         1               0   \n",
       "\n",
       "   full_propensity_score  hospice_disch  code_status  \n",
       "0               0.027484              0            0  \n",
       "1               0.002748              0            0  \n",
       "2               0.021631              0            0  \n",
       "3               0.001617              0            0  \n",
       "4               0.006805              0            0  "
      ]
     },
     "execution_count": 3,
     "metadata": {},
     "output_type": "execute_result"
    }
   ],
   "source": [
    "notification_df.head()"
   ]
  },
  {
   "cell_type": "code",
   "execution_count": 4,
   "metadata": {},
   "outputs": [],
   "source": [
    "from sklearn.linear_model import LogisticRegression"
   ]
  },
  {
   "cell_type": "code",
   "execution_count": 5,
   "metadata": {},
   "outputs": [],
   "source": [
    "# Initialize the model -- we'll use default parameters for now\n",
    "lr = LogisticRegression()"
   ]
  },
  {
   "cell_type": "code",
   "execution_count": 6,
   "metadata": {},
   "outputs": [
    {
     "data": {
      "text/plain": [
       "LogisticRegression()"
      ]
     },
     "execution_count": 6,
     "metadata": {},
     "output_type": "execute_result"
    }
   ],
   "source": [
    "lr.fit(notification_df.loc[:, ['age', \n",
    "                               'admission_type_label_Urgent Admission',\n",
    "                               'admission_type_label_Routine Elective Admission',\n",
    "                               'admission_type_label_Emergency Admission']].values, \n",
    "       notification_df['notification'].values)\n"
   ]
  },
  {
   "cell_type": "markdown",
   "metadata": {},
   "source": [
    "Now, we want to get the actual scores (note that we did not use a training/test split since we don't care about assessing error -- we want to know what the model predicts in the original training set)."
   ]
  },
  {
   "cell_type": "code",
   "execution_count": 7,
   "metadata": {},
   "outputs": [],
   "source": [
    "notification_df['abbr_prop_score'] = lr.predict_proba(notification_df.loc[:, ['age', \n",
    "                               'admission_type_label_Urgent Admission',\n",
    "                               'admission_type_label_Routine Elective Admission',\n",
    "                               'admission_type_label_Emergency Admission']].values)[:, 1]"
   ]
  },
  {
   "cell_type": "code",
   "execution_count": 9,
   "metadata": {},
   "outputs": [
    {
     "data": {
      "text/plain": [
       "Text(0.5, 1.0, 'Distribution of Propensity Score across groups')"
      ]
     },
     "execution_count": 9,
     "metadata": {},
     "output_type": "execute_result"
    },
    {
     "data": {
      "image/png": "[encoded data removed]",
      "text/plain": [
       "<Figure size 432x288 with 1 Axes>"
      ]
     },
     "metadata": {
      "needs_background": "light"
     },
     "output_type": "display_data"
    }
   ],
   "source": [
    "sns.histplot(data = notification_df, x='abbr_prop_score', hue='notification', stat='density', bins=50, common_norm=False)\n",
    "plt.xlabel(\"Propensity Score\")\n",
    "plt.title(\"Distribution of Propensity Score across groups\")"
   ]
  },
  {
   "cell_type": "markdown",
   "metadata": {},
   "source": [
    "## Did we actually balance our covariates? "
   ]
  },
  {
   "cell_type": "markdown",
   "metadata": {},
   "source": [
    "The whole point of the propensity score was to balance our covariates, but we have to check if they are actually balanced. There are several proposed methods to do this. The first is to do the following procedure:\n",
    "\n",
    " 1. create K blocks based on the propensity score quantiles\n",
    " 2. For each covariate, use a t-test for the two group means\n",
    " 3. Optionally run an ANOVA of X on W * b to test for main effects of W or interaction of W with b. \n",
    " \n",
    "If we did this correctly, we should not see any significance in these tests. "
   ]
  },
  {
   "cell_type": "markdown",
   "metadata": {},
   "source": [
    "## T/Z-test for each group "
   ]
  },
  {
   "cell_type": "code",
   "execution_count": 11,
   "metadata": {},
   "outputs": [],
   "source": [
    "from scipy.stats import ttest_ind as ttest\n",
    "from statsmodels.stats.weightstats import ztest"
   ]
  },
  {
   "cell_type": "code",
   "execution_count": 29,
   "metadata": {},
   "outputs": [],
   "source": [
    "def get_p_values(df, propensity_score_column, cov_to_test, \n",
    "                 treatment_col, test_type=\"t\"):\n",
    "    \"\"\"\n",
    "    Arguments:\n",
    "    ----------\n",
    "    df : pd.DataFrame\n",
    "        Dataframe that contains the propensity scores\n",
    "    propensity_score_column : str\n",
    "        Name of the propensity score column\n",
    "    cov_to_test : str\n",
    "        Name of the covariates to test\n",
    "    treatment_col : str\n",
    "        Name of the treatment column\n",
    "    test_type : str\n",
    "        One of [\"t\", \"z\"]. The type of test to perform\n",
    "    \n",
    "    Returns:\n",
    "    --------\n",
    "    result_dict : Dict[Dict]\n",
    "        A dictionary where the key the is the quantile of interest\n",
    "        and the value is the p-value of the resulting test\n",
    "    \"\"\"\n",
    "    result_dict = {}\n",
    "    for i in np.linspace(0, .8, 5):\n",
    "        q = np.quantile(df[propensity_score_column], i)\n",
    "        q2 = np.quantile(df[propensity_score_column], i + .2)\n",
    "        treatment_group_values = df.loc[(df[propensity_score_column] >= q)\n",
    "                                       &(df[propensity_score_column] < q2)\n",
    "                                       &(df[treatment_col] == 1),\n",
    "                                         cov_to_test].values\n",
    "        control_group_values = df.loc[(df[propensity_score_column] >= q)\n",
    "                                     &(df[propensity_score_column] < q2)\n",
    "                                     &(df[treatment_col] == 0),\n",
    "                                     cov_to_test].values\n",
    "        if test_type == \"t\":\n",
    "            result_dict[q] = ttest(treatment_group_values, control_group_values).pvalue\n",
    "        elif test_type == \"z\":\n",
    "            result_dict[q] = ztest(treatment_group_values, control_group_values).pvalue\n",
    "            \n",
    "    return result_dict"
   ]
  },
  {
   "cell_type": "code",
   "execution_count": 30,
   "metadata": {},
   "outputs": [
    {
     "data": {
      "text/plain": [
       "{2.7246428029141393e-05: nan,\n",
       " 0.00025205684712226254: 0.25678520822458273,\n",
       " 0.002287342354424743: 0.2339077754843437,\n",
       " 0.007558387938089923: 0.010295182970900181,\n",
       " 0.016160657411021972: 3.307565693394395e-05}"
      ]
     },
     "execution_count": 30,
     "metadata": {},
     "output_type": "execute_result"
    }
   ],
   "source": [
    "get_p_values(df=notification_df,\n",
    "             propensity_score_column=\"abbr_prop_score\",\n",
    "             cov_to_test=\"age\",\n",
    "             treatment_col=\"notification\")"
   ]
  },
  {
   "cell_type": "code",
   "execution_count": 31,
   "metadata": {
    "scrolled": true
   },
   "outputs": [
    {
     "data": {
      "text/plain": [
       "{0.0012522910589001022: 0.7677879846141645,\n",
       " 0.0028839282218985707: 0.05840828564287145,\n",
       " 0.005546834009807674: 0.2327780474886158,\n",
       " 0.008689887313075885: 0.9041557823431949,\n",
       " 0.013096938697729401: 2.023641300053126e-07}"
      ]
     },
     "execution_count": 31,
     "metadata": {},
     "output_type": "execute_result"
    }
   ],
   "source": [
    "get_p_values(df=notification_df,\n",
    "             propensity_score_column=\"full_propensity_score\",\n",
    "             cov_to_test=\"age\",\n",
    "             treatment_col=\"notification\")"
   ]
  },
  {
   "cell_type": "markdown",
   "metadata": {},
   "source": [
    "## Absolute Standardized Difference [https://www.ncbi.nlm.nih.gov/pmc/articles/PMC3472075/]"
   ]
  },
  {
   "cell_type": "markdown",
   "metadata": {},
   "source": [
    "$$ d = \\frac{(\\bar{x}_{treatment} - \\bar{x}_{control})}{\\sqrt{\\frac{s^2_{treatment} + s^2_{control}}{2}}} $$"
   ]
  },
  {
   "cell_type": "markdown",
   "metadata": {},
   "source": [
    "for continuous variables "
   ]
  },
  {
   "cell_type": "markdown",
   "metadata": {},
   "source": [
    "$$ d = \\frac{(\\hat{p}_{treatment} - \\hat{p}_{control})}{\\sqrt{\\frac{\\hat{p}_{treatment}(1 - \\hat{p}_{treatment}) + \\hat{p}_{control}(1 - \\hat{p}_{control})}{2}}}$$"
   ]
  },
  {
   "cell_type": "markdown",
   "metadata": {},
   "source": [
    "for binary variables "
   ]
  },
  {
   "cell_type": "markdown",
   "metadata": {},
   "source": [
    "## How do we use these? "
   ]
  },
  {
   "cell_type": "markdown",
   "metadata": {},
   "source": [
    "Remember that our goal was to create a psuedo-population where the covariates were balanced. How does the propensity score allow us to do this exactly? We will look at the case of weighting, which is a very common way to do propensity score analysis. \n"
   ]
  },
  {
   "cell_type": "markdown",
   "metadata": {},
   "source": [
    "### Horvitz-Thompson Weighting\n",
    "\n",
    "This is the default propensity score weighting scheme. It is described as folows:\n",
    "\n",
    "The weight for someone in the treatment group is $1/\\hat{e}_i$ and is $1/(1-\\hat{e_i})$ for someone in the control group.\n",
    "\n",
    "The intuition is as follows:\n",
    "\n",
    "The less likely a subject was to be sampled, then the larger population weight it should have. "
   ]
  },
  {
   "cell_type": "code",
   "execution_count": null,
   "metadata": {},
   "outputs": [],
   "source": []
  }
 ],
 "metadata": {
  "kernelspec": {
   "display_name": "Python 3",
   "language": "python",
   "name": "python3"
  },
  "language_info": {
   "codemirror_mode": {
    "name": "ipython",
    "version": 3
   },
   "file_extension": ".py",
   "mimetype": "text/x-python",
   "name": "python",
   "nbconvert_exporter": "python",
   "pygments_lexer": "ipython3",
   "version": "3.8.5"
  }
 },
 "nbformat": 4,
 "nbformat_minor": 4
}
